{
  "nbformat": 4,
  "nbformat_minor": 0,
  "metadata": {
    "colab": {
      "name": "Cal Course Alerts.ipynb",
      "version": "0.3.2",
      "provenance": [],
      "collapsed_sections": [
        "bQdUlGGwEjmq",
        "gZoaXzDyEnA0",
        "qrlPGeOUEpda"
      ]
    },
    "kernelspec": {
      "name": "python3",
      "display_name": "Python 3"
    }
  },
  "cells": [
    {
      "cell_type": "markdown",
      "metadata": {
        "id": "view-in-github",
        "colab_type": "text"
      },
      "source": [
        "[View in Colaboratory](https://colab.research.google.com/github/henry-chen-2020/check-class-status/blob/master/Cal_Course_Alerts.ipynb)"
      ]
    },
    {
      "metadata": {
        "id": "XNHnPfgIEMYy",
        "colab_type": "text"
      },
      "cell_type": "markdown",
      "source": [
        "# Cal Course Alerts"
      ]
    },
    {
      "metadata": {
        "id": "0bD423cKETCg",
        "colab_type": "text"
      },
      "cell_type": "markdown",
      "source": [
        "Giving email and list of course id, an email might be sent if any spot is available"
      ]
    },
    {
      "metadata": {
        "id": "bQdUlGGwEjmq",
        "colab_type": "text"
      },
      "cell_type": "markdown",
      "source": [
        "## Collector"
      ]
    },
    {
      "metadata": {
        "id": "onNme-xVE74W",
        "colab_type": "text"
      },
      "cell_type": "markdown",
      "source": [
        "Take input from command line, email and list of course id. Using http.client lib, connect to classes.berkeley.edu, get list of json string"
      ]
    },
    {
      "metadata": {
        "id": "h4v8JjcIGTgO",
        "colab_type": "code",
        "colab": {}
      },
      "cell_type": "code",
      "source": [
        "import http.client\n",
        "\n",
        "def collect(courseId):\n",
        "  pass"
      ],
      "execution_count": 0,
      "outputs": []
    },
    {
      "metadata": {
        "id": "lzJUA-IFIaDv",
        "colab_type": "code",
        "colab": {
          "base_uri": "https://localhost:8080/",
          "height": 54
        },
        "outputId": "7c35aa53-ab1c-42b6-99e4-9d5687b34d8d"
      },
      "cell_type": "code",
      "source": [
        "# test\n",
        "json = collect(\"31404\")\n",
        "print(json)"
      ],
      "execution_count": 42,
      "outputs": [
        {
          "output_type": "stream",
          "text": [
            "None\n"
          ],
          "name": "stdout"
        }
      ]
    },
    {
      "metadata": {
        "id": "gZoaXzDyEnA0",
        "colab_type": "text"
      },
      "cell_type": "markdown",
      "source": [
        "##Extractor"
      ]
    },
    {
      "metadata": {
        "id": "0eI1TYN-FhX7",
        "colab_type": "text"
      },
      "cell_type": "markdown",
      "source": [
        "From JSON string, find\n",
        "- Status\n",
        "- Available seat\n",
        "- Avaliable waitlist"
      ]
    },
    {
      "metadata": {
        "id": "K9rB2C5_GXhP",
        "colab_type": "code",
        "colab": {}
      },
      "cell_type": "code",
      "source": [
        "import json\n",
        "\n",
        "def extract(str):\n",
        "  return (None, None, None)"
      ],
      "execution_count": 0,
      "outputs": []
    },
    {
      "metadata": {
        "id": "GxuGroYLI79e",
        "colab_type": "code",
        "colab": {}
      },
      "cell_type": "code",
      "source": [
        "# test\n",
        "(status, seat, waitlist) = extract(\"\")"
      ],
      "execution_count": 0,
      "outputs": []
    },
    {
      "metadata": {
        "id": "qrlPGeOUEpda",
        "colab_type": "text"
      },
      "cell_type": "markdown",
      "source": [
        "##Analyzer"
      ]
    },
    {
      "metadata": {
        "id": "LRNxsY_0FwtY",
        "colab_type": "text"
      },
      "cell_type": "markdown",
      "source": [
        "From the info above, apply logic, form message"
      ]
    },
    {
      "metadata": {
        "id": "qFryT04tGaLc",
        "colab_type": "code",
        "colab": {}
      },
      "cell_type": "code",
      "source": [
        "def analyze(status, seat, waitlist):\n",
        "  return \"\""
      ],
      "execution_count": 0,
      "outputs": []
    },
    {
      "metadata": {
        "id": "_DzyH32zRTCR",
        "colab_type": "code",
        "colab": {
          "base_uri": "https://localhost:8080/",
          "height": 54
        },
        "outputId": "1164001b-7d88-43f6-ba9b-eec7f58fadb2"
      },
      "cell_type": "code",
      "source": [
        "# test\n",
        "msg = analyze(\"\", \"\", \"\")\n",
        "print(msg)"
      ],
      "execution_count": 46,
      "outputs": [
        {
          "output_type": "stream",
          "text": [
            "\n"
          ],
          "name": "stdout"
        }
      ]
    },
    {
      "metadata": {
        "id": "NIIxWw8yEs5b",
        "colab_type": "text"
      },
      "cell_type": "markdown",
      "source": [
        "##Notifier"
      ]
    },
    {
      "metadata": {
        "id": "dIqFOFDGGOX4",
        "colab_type": "text"
      },
      "cell_type": "markdown",
      "source": [
        "Notify by email"
      ]
    },
    {
      "metadata": {
        "id": "mQIjj5HvGcC0",
        "colab_type": "code",
        "colab": {}
      },
      "cell_type": "code",
      "source": [
        "# utility to send email\n",
        "def sendemail():\n",
        "  pass\n",
        "\n",
        "# conditionally send email if body is not None\n",
        "def notify(email, subj, body):\n",
        "  pass"
      ],
      "execution_count": 0,
      "outputs": []
    },
    {
      "metadata": {
        "id": "k0qj8LMcXAyG",
        "colab_type": "code",
        "colab": {}
      },
      "cell_type": "code",
      "source": [
        "# test\n",
        "notify('wc73@yahoo.com', None, None)\n",
        "notify('wc73@yahoo.com', \"test\", \"test body\")"
      ],
      "execution_count": 0,
      "outputs": []
    },
    {
      "metadata": {
        "id": "GYyE0X_gZ_lR",
        "colab_type": "text"
      },
      "cell_type": "markdown",
      "source": [
        "## Together"
      ]
    },
    {
      "metadata": {
        "id": "pm1v9DH3aBv8",
        "colab_type": "text"
      },
      "cell_type": "markdown",
      "source": [
        "Put all together"
      ]
    },
    {
      "metadata": {
        "id": "avSxSwC-Z-NQ",
        "colab_type": "code",
        "colab": {}
      },
      "cell_type": "code",
      "source": [
        "#/usr/local/bin/python3\n",
        "\n",
        "from sys import argv\n",
        "\n",
        "def main():\n",
        "  if len(argv) < 2:\n",
        "    email = input(\"Email: \")\n",
        "    courses = input(\"List course id separated by comma: \")\n",
        "  else:  \n",
        "    email = argv[0]\n",
        "    courses = argv[1]\n",
        "    \n",
        "  msg = \"\".join(alert(courses))\n",
        "  notify(email, courses, msg)\n",
        "\n",
        "def alert(courses):\n",
        "  for course in courses.split(\",\"):\n",
        "    json = collect(course)\n",
        "    (status, seat, waitlist) = extract(json)\n",
        "    yield analyze(status, seat, waitlist)\n",
        "    "
      ],
      "execution_count": 0,
      "outputs": []
    },
    {
      "metadata": {
        "id": "TeAiOB34aeu-",
        "colab_type": "code",
        "colab": {}
      },
      "cell_type": "code",
      "source": [
        "# test\n",
        "main()"
      ],
      "execution_count": 0,
      "outputs": []
    },
    {
      "metadata": {
        "id": "Hq-hrwtKaZzG",
        "colab_type": "text"
      },
      "cell_type": "markdown",
      "source": [
        ""
      ]
    }
  ]
}